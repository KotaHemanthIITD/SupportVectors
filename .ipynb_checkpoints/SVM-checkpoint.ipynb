{
 "cells": [
  {
   "cell_type": "code",
   "execution_count": 27,
   "metadata": {},
   "outputs": [
    {
     "data": {
      "text/plain": [
       "'\\nImport Libraries\\n'"
      ]
     },
     "execution_count": 27,
     "metadata": {},
     "output_type": "execute_result"
    }
   ],
   "source": [
    "'''\n",
    "Import Libraries\n",
    "'''"
   ]
  },
  {
   "cell_type": "code",
   "execution_count": 3,
   "metadata": {},
   "outputs": [],
   "source": [
    "import pandas as pd\n",
    "import numpy as np\n",
    "from matplotlib import pyplot as plot\n",
    "import sklearn"
   ]
  },
  {
   "cell_type": "code",
   "execution_count": 26,
   "metadata": {},
   "outputs": [
    {
     "data": {
      "text/plain": [
       "'\\nReading Training Data & Test Data\\n'"
      ]
     },
     "execution_count": 26,
     "metadata": {},
     "output_type": "execute_result"
    }
   ],
   "source": [
    "'''\n",
    "Reading Training Data & Test Data\n",
    "'''"
   ]
  },
  {
   "cell_type": "code",
   "execution_count": 30,
   "metadata": {},
   "outputs": [],
   "source": [
    "inp = open('train_updated.data','r')\n",
    "m = 0\n",
    "n = -1\n",
    "train_X = []\n",
    "for i in inp:\n",
    "    m = m+1\n",
    "    a = i.split(',')\n",
    "    a = [\"\".join(j.split()) for j in a]        \n",
    "    n = len(a)-1\n",
    "    train_X.append(a)    \n",
    "# print(n,m)\n",
    "train_Y = []\n",
    "for i in range(m):\n",
    "    if(train_X[i][n] == 'ad.'):        \n",
    "        train_Y.append(0)\n",
    "    else:\n",
    "        train_Y.append(1)\n",
    "    train_X[i] = train_X[i][:n]\n",
    "\n",
    "inp = open('test_updated.data','r')\n",
    "test_X = []\n",
    "l = 0\n",
    "test_Y = []\n",
    "for i in inp:\n",
    "    l = l+1\n",
    "    a = i.split(',')\n",
    "    a = [\"\".join(j.split()) for j in a]\n",
    "    test_X.append(a[:n])\n",
    "    if(a[n] == 'ad.'):\n",
    "        test_Y.append(0)\n",
    "    else:\n",
    "        test_Y.append(1)\n",
    "# print(l)\n",
    "# print(train_X[0])\n",
    "# print(train_Y)"
   ]
  },
  {
   "cell_type": "code",
   "execution_count": 16,
   "metadata": {},
   "outputs": [
    {
     "name": "stdout",
     "output_type": "stream",
     "text": [
      "Help on method_descriptor:\n",
      "\n",
      "split(self, /, sep=None, maxsplit=-1)\n",
      "    Return a list of the words in the string, using sep as the delimiter string.\n",
      "    \n",
      "    sep\n",
      "      The delimiter according which to split the string.\n",
      "      None (the default value) means split according to any whitespace,\n",
      "      and discard empty strings from the result.\n",
      "    maxsplit\n",
      "      Maximum number of splits to do.\n",
      "      -1 (the default value) means no limit.\n",
      "\n"
     ]
    }
   ],
   "source": [
    "help(str.split)"
   ]
  },
  {
   "cell_type": "code",
   "execution_count": null,
   "metadata": {},
   "outputs": [],
   "source": []
  }
 ],
 "metadata": {
  "kernelspec": {
   "display_name": "Python 3",
   "language": "python",
   "name": "python3"
  },
  "language_info": {
   "codemirror_mode": {
    "name": "ipython",
    "version": 3
   },
   "file_extension": ".py",
   "mimetype": "text/x-python",
   "name": "python",
   "nbconvert_exporter": "python",
   "pygments_lexer": "ipython3",
   "version": "3.7.3"
  }
 },
 "nbformat": 4,
 "nbformat_minor": 2
}
